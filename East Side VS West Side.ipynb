{
    "cells": [
        {
            "cell_type": "markdown",
            "metadata": {
                "collapsed": true
            },
            "source": "# East Side vs West Side"
        },
        {
            "cell_type": "markdown",
            "metadata": {},
            "source": "## Introduction"
        },
        {
            "cell_type": "markdown",
            "metadata": {},
            "source": "The East side vs West side has been a problem that is going on for some time now. The common method of resolving it is to based on one party's personal experience to justify which side of Singapore is better, which is inaccurate and deals with small sample size. Foursquare data would then provide an interesting perspective to the data, having collected user information not only from residents but from other visitors worldwide who check-in when they visit these locations. "
        },
        {
            "cell_type": "markdown",
            "metadata": {},
            "source": ""
        },
        {
            "cell_type": "markdown",
            "metadata": {},
            "source": "## Problem"
        },
        {
            "cell_type": "markdown",
            "metadata": {},
            "source": "Using Foursquare, the top 50 locations in Singapore both in the west and east area will be generated. I will then sort these locations by category and derive its average rating from all the locations that match the category. Category based comparison will be done to determine which is the best area. "
        },
        {
            "cell_type": "markdown",
            "metadata": {},
            "source": ""
        },
        {
            "cell_type": "markdown",
            "metadata": {},
            "source": "## Data"
        },
        {
            "cell_type": "markdown",
            "metadata": {},
            "source": "It is my hope that this rational based approach and sorting by category allows a fairer comparison instead of solely depending on a single person's argument and experience"
        },
        {
            "cell_type": "code",
            "execution_count": null,
            "metadata": {},
            "outputs": [],
            "source": ""
        }
    ],
    "metadata": {
        "kernelspec": {
            "display_name": "Python 3.6",
            "language": "python",
            "name": "python3"
        },
        "language_info": {
            "codemirror_mode": {
                "name": "ipython",
                "version": 3
            },
            "file_extension": ".py",
            "mimetype": "text/x-python",
            "name": "python",
            "nbconvert_exporter": "python",
            "pygments_lexer": "ipython3",
            "version": "3.6.9"
        }
    },
    "nbformat": 4,
    "nbformat_minor": 1
}