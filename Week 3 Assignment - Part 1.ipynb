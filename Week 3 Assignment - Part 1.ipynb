{
    "cells": [
        {
            "metadata": {},
            "cell_type": "code",
            "source": "#set up and installation\nimport numpy as np # library to handle data in a vectorized manner\n\nimport pandas as pd # library for data analsysis\npd.set_option('display.max_columns', None)\npd.set_option('display.max_rows', None)\n\nimport json # library to handle JSON files\n\n!conda install -c conda-forge geopy --yes # uncomment this line if you haven't completed the Foursquare API lab\nfrom geopy.geocoders import Nominatim # convert an address into latitude and longitude values\n\nimport requests # library to handle requests\nfrom pandas.io.json import json_normalize # tranform JSON file into a pandas dataframe\n\n# Matplotlib and associated plotting modules\nimport matplotlib.cm as cm\nimport matplotlib.colors as colors\n\n# import k-means from clustering stage\nfrom sklearn.cluster import KMeans\n\n!conda install -c conda-forge folium=0.5.0 --yes # uncomment this line if you haven't completed the Foursquare API lab\nimport folium # map rendering library\n\n!pip install beautifulsoup4 \n!pip install lxml\n\n\nprint('Libraries imported.')",
            "execution_count": null,
            "outputs": [
                {
                    "output_type": "stream",
                    "text": "Solving environment: done\n\n## Package Plan ##\n\n  environment location: /opt/conda/envs/Python36\n\n  added / updated specs: \n    - geopy\n\n\nThe following packages will be downloaded:\n\n    package                    |            build\n    ---------------------------|-----------------\n    openssl-1.1.1g             |       h516909a_0         2.1 MB  conda-forge\n    geographiclib-1.50         |             py_0          34 KB  conda-forge\n    python_abi-3.6             |          1_cp36m           4 KB  conda-forge\n    ca-certificates-2020.6.20  |       hecda079_0         145 KB  conda-forge\n    geopy-2.0.0                |     pyh9f0ad1d_0          63 KB  conda-forge\n    certifi-2020.6.20          |   py36h9f0ad1d_0         151 KB  conda-forge\n    ------------------------------------------------------------\n                                           Total:         2.5 MB\n\nThe following NEW packages will be INSTALLED:\n\n    geographiclib:   1.50-py_0          conda-forge\n    geopy:           2.0.0-pyh9f0ad1d_0 conda-forge\n    python_abi:      3.6-1_cp36m        conda-forge\n\nThe following packages will be UPDATED:\n\n    certifi:         2020.6.20-py36_0               --> 2020.6.20-py36h9f0ad1d_0 conda-forge\n    openssl:         1.1.1g-h7b6447c_0              --> 1.1.1g-h516909a_0        conda-forge\n\nThe following packages will be DOWNGRADED:\n\n    ca-certificates: 2020.6.24-0                    --> 2020.6.20-hecda079_0     conda-forge\n\n\nDownloading and Extracting Packages\nopenssl-1.1.1g       | 2.1 MB    | ##################################### | 100% \ngeographiclib-1.50   | 34 KB     | ##################################### | 100% \npython_abi-3.6       | 4 KB      | ##################################### | 100% \nca-certificates-2020 | 145 KB    | ##################################### | 100% \ngeopy-2.0.0          | 63 KB     | ##################################### | 100% \ncertifi-2020.6.20    | 151 KB    | ##################################### | 100% \nPreparing transaction: done\nVerifying transaction: done\nExecuting transaction: done\nSolving environment: / ",
                    "name": "stdout"
                }
            ]
        },
        {
            "metadata": {},
            "cell_type": "code",
            "source": "#loading of postal code data given in intial step\nimport requests\nfrom lxml import html\n\ntable = pd.read_html(\"https://en.wikipedia.org/wiki/List_of_postal_codes_of_Canada:_M\")\n\ndf = table[0]\ndf.head()",
            "execution_count": null,
            "outputs": []
        },
        {
            "metadata": {},
            "cell_type": "code",
            "source": "#cleaning of data to drop Not assigned neighbourhoods. display of filtered data and frame\ndf['Borough'].replace(\"Not assigned\",np.nan, inplace = True)\ndf['Neighbourhood'].replace('Not assigned' ,np.nan,inplace = True)\n\ndf_filtered=df.dropna()\nprint(df_filtered.head())\ndf_filtered.shape",
            "execution_count": null,
            "outputs": []
        },
        {
            "metadata": {},
            "cell_type": "code",
            "source": "",
            "execution_count": null,
            "outputs": []
        },
        {
            "metadata": {},
            "cell_type": "code",
            "source": "",
            "execution_count": null,
            "outputs": []
        }
    ],
    "metadata": {
        "kernelspec": {
            "name": "python3",
            "display_name": "Python 3.6",
            "language": "python"
        },
        "language_info": {
            "name": "python",
            "version": "3.6.9",
            "mimetype": "text/x-python",
            "codemirror_mode": {
                "name": "ipython",
                "version": 3
            },
            "pygments_lexer": "ipython3",
            "nbconvert_exporter": "python",
            "file_extension": ".py"
        }
    },
    "nbformat": 4,
    "nbformat_minor": 1
}